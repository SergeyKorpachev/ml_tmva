{
 "cells": [
  {
   "cell_type": "code",
   "execution_count": 17,
   "metadata": {},
   "outputs": [],
   "source": [
    "import tensorflow\n",
    "from tensorflow.keras.models import Sequential\n",
    "from tensorflow.keras.layers import Dense, Activation\n",
    "from tensorflow.keras.regularizers import l2\n",
    "from tensorflow.keras.optimizers import SGD"
   ]
  },
  {
   "cell_type": "code",
   "execution_count": 18,
   "metadata": {},
   "outputs": [],
   "source": [
    "from ROOT import TMVA, TFile, TTree, TCut\n",
    "from subprocess import call\n",
    "from os.path import isfile"
   ]
  },
  {
   "cell_type": "code",
   "execution_count": 19,
   "metadata": {},
   "outputs": [
    {
     "name": "stdout",
     "output_type": "stream",
     "text": [
      "Model: \"sequential_2\"\n",
      "_________________________________________________________________\n",
      "Layer (type)                 Output Shape              Param #   \n",
      "=================================================================\n",
      "dense_4 (Dense)              (None, 64)                192       \n",
      "_________________________________________________________________\n",
      "dense_5 (Dense)              (None, 1)                 65        \n",
      "=================================================================\n",
      "Total params: 257\n",
      "Trainable params: 257\n",
      "Non-trainable params: 0\n",
      "_________________________________________________________________\n",
      "DataSetInfo              : [dataset] : Added class \"Regression\"\n",
      "                         : Add Tree TreeR of type Regression with 10000 events\n",
      "                         : Dataset[dataset] : Class index : 0  name : Regression\n"
     ]
    }
   ],
   "source": [
    "\n",
    "# Setup TMVA\n",
    "#TMVA.Tools.Instance()\n",
    "TMVA.Tools.Instance()\n",
    "#TMVA.PyMethodBase.PyInitialize()\n",
    "output = TFile.Open('TMVA.root', 'RECREATE')\n",
    "factory = TMVA.Factory('TMVARegression', output,\n",
    "        '!V:!Silent:Color:DrawProgressBar:Transformations=D,G:AnalysisType=Regression')\n",
    "# Load data\n",
    "if not isfile('tmva_reg_example.root'):\n",
    "    call(['curl', '-O', 'http://root.cern.ch/files/tmva_reg_example.root'])\n",
    "data = TFile.Open('tmva_reg_example.root')\n",
    "tree = data.Get('TreeR')\n",
    "dataloader = TMVA.DataLoader('dataset')\n",
    "for branch in tree.GetListOfBranches():\n",
    "    name = branch.GetName()\n",
    "    if name != 'fvalue':\n",
    "        dataloader.AddVariable(name)\n",
    "dataloader.AddTarget('fvalue')\n",
    "dataloader.AddRegressionTree(tree, 1.0)\n",
    "dataloader.PrepareTrainingAndTestTree(TCut(''),\n",
    "        'nTrain_Regression=4000:SplitMode=Random:NormMode=NumEvents:!V')\n",
    "# Generate model\n",
    "# Define model\n",
    "model = Sequential()\n",
    "#model.add(Dense(64, activation='tanh', W_regularizer=l2(1e-5), input_dim=2))\n",
    "model.add(Dense(64, activation='tanh', input_dim=2))\n",
    "model.add(Dense(1, activation='linear'))\n",
    "# Set loss and optimizer\n",
    "model.compile(loss='mean_squared_error', optimizer=SGD(lr=0.01))\n",
    "# Store model to file\n",
    "model.save('model.h5')\n",
    "model.summary()\n"
   ]
  },
  {
   "cell_type": "code",
   "execution_count": 24,
   "metadata": {},
   "outputs": [
    {
     "name": "stdout",
     "output_type": "stream",
     "text": [
      "Factory                  : \u001b[1mTrain all methods\u001b[0m\n",
      "                         : ...nothing found to train\n",
      "Factory                  : \u001b[1mTest all methods\u001b[0m\n",
      "                         : ...nothing found to test\n",
      "Factory                  : \u001b[1mEvaluate all methods\u001b[0m\n",
      "                         : ...nothing found to evaluate\n"
     ]
    }
   ],
   "source": [
    "# Book methods\n",
    "\n",
    "factory.BookMethod(dataloader, TMVA.Types.kPyKeras, 'PyKeras', 'H:!V:VarTransform=D,G:FilenameModel=model.h5:NumEpochs=20:BatchSize=32', TMVA.Types.kPyKeras, 'H:!V:VarTransform=D,G:FilenameModel=model.h5:NumEpochs=20:BatchSize=32')\n",
    "# Run TMVA\n",
    "factory.TrainAllMethods()\n",
    "factory.TestAllMethods()\n",
    "factory.EvaluateAllMethods()\n"
   ]
  },
  {
   "cell_type": "code",
   "execution_count": null,
   "metadata": {},
   "outputs": [],
   "source": []
  },
  {
   "cell_type": "code",
   "execution_count": 14,
   "metadata": {},
   "outputs": [],
   "source": [
    "from ROOT import TMVA, TFile, TString\n",
    "from array import array\n",
    "from subprocess import call\n",
    "from os.path import isfile"
   ]
  },
  {
   "cell_type": "code",
   "execution_count": 16,
   "metadata": {},
   "outputs": [
    {
     "ename": "TypeError",
     "evalue": "none of the 2 overloaded methods succeeded. Full details:\n  TMVA::IMethod* TMVA::Reader::BookMVA(const TString& methodTag, const TString& weightfile) =>\n    FATAL error (C++ exception of type runtime_error)\n  TMVA::IMethod* TMVA::Reader::BookMVA(TMVA::Types::EMVA methodType, const char* xmlstr) =>\n    could not convert argument 1 (an integer is required)",
     "output_type": "error",
     "traceback": [
      "\u001b[0;31m---------------------------------------------------------------------------\u001b[0m",
      "\u001b[0;31mTypeError\u001b[0m                                 Traceback (most recent call last)",
      "\u001b[0;32m<ipython-input-16-a37f049ee20f>\u001b[0m in \u001b[0;36m<module>\u001b[0;34m\u001b[0m\n\u001b[1;32m     16\u001b[0m         \u001b[0mreader\u001b[0m\u001b[0;34m.\u001b[0m\u001b[0mAddVariable\u001b[0m\u001b[0;34m(\u001b[0m\u001b[0mbranchName\u001b[0m\u001b[0;34m,\u001b[0m \u001b[0mbranches\u001b[0m\u001b[0;34m[\u001b[0m\u001b[0mbranchName\u001b[0m\u001b[0;34m]\u001b[0m\u001b[0;34m)\u001b[0m\u001b[0;34m\u001b[0m\u001b[0;34m\u001b[0m\u001b[0m\n\u001b[1;32m     17\u001b[0m \u001b[0;31m# Book methods\u001b[0m\u001b[0;34m\u001b[0m\u001b[0;34m\u001b[0m\u001b[0;34m\u001b[0m\u001b[0m\n\u001b[0;32m---> 18\u001b[0;31m \u001b[0mreader\u001b[0m\u001b[0;34m.\u001b[0m\u001b[0mBookMVA\u001b[0m\u001b[0;34m(\u001b[0m\u001b[0;34m'TMVA.Types.kPyKeras'\u001b[0m\u001b[0;34m,\u001b[0m \u001b[0mTString\u001b[0m\u001b[0;34m(\u001b[0m\u001b[0;34m'dataset/weights/TMVARegression_PyKeras.weights.xml'\u001b[0m\u001b[0;34m)\u001b[0m\u001b[0;34m)\u001b[0m\u001b[0;34m\u001b[0m\u001b[0;34m\u001b[0m\u001b[0m\n\u001b[0m\u001b[1;32m     19\u001b[0m \u001b[0;31m# Print some example regressions\u001b[0m\u001b[0;34m\u001b[0m\u001b[0;34m\u001b[0m\u001b[0;34m\u001b[0m\u001b[0m\n\u001b[1;32m     20\u001b[0m \u001b[0mprint\u001b[0m\u001b[0;34m(\u001b[0m\u001b[0;34m'Some example regressions:'\u001b[0m\u001b[0;34m)\u001b[0m\u001b[0;34m\u001b[0m\u001b[0;34m\u001b[0m\u001b[0m\n",
      "\u001b[0;31mTypeError\u001b[0m: none of the 2 overloaded methods succeeded. Full details:\n  TMVA::IMethod* TMVA::Reader::BookMVA(const TString& methodTag, const TString& weightfile) =>\n    FATAL error (C++ exception of type runtime_error)\n  TMVA::IMethod* TMVA::Reader::BookMVA(TMVA::Types::EMVA methodType, const char* xmlstr) =>\n    could not convert argument 1 (an integer is required)"
     ]
    },
    {
     "name": "stdout",
     "output_type": "stream",
     "text": [
      "\u001b[37;41;1m<FATAL>                         : <BookMVA> fatal error: unable to open input weight file: dataset/weights/TMVARegression_PyKeras.weights.xml\u001b[0m\n",
      "***> abort program execution\n"
     ]
    }
   ],
   "source": [
    "# Setup TMVA\n",
    "TMVA.Tools.Instance()\n",
    "#TMVA.PyMethodBase.PyInitialize()\n",
    "reader = TMVA.Reader(\"Color:!Silent\")\n",
    "# Load data\n",
    "if not isfile('tmva_reg_example.root'):\n",
    "    call(['curl', '-O', 'http://root.cern.ch/files/tmva_reg_example.root'])\n",
    "data = TFile.Open('tmva_reg_example.root')\n",
    "tree = data.Get('TreeR')\n",
    "branches = {}\n",
    "for branch in tree.GetListOfBranches():\n",
    "    branchName = branch.GetName()\n",
    "    branches[branchName] = array('f', [-999])\n",
    "    tree.SetBranchAddress(branchName, branches[branchName])\n",
    "    if branchName != 'fvalue':\n",
    "        reader.AddVariable(branchName, branches[branchName])\n",
    "# Book methods\n",
    "reader.BookMVA('TMVA.Types.kPyKeras', TString('dataset/weights/TMVARegression_PyKeras.weights.xml'))\n",
    "# Print some example regressions\n",
    "print('Some example regressions:')\n",
    "for i in range(20):\n",
    "    tree.GetEntry(i)\n",
    "    print('True/MVA value: {}/{}'.format(branches['fvalue'][0],reader.EvaluateMVA('PyKeras')))"
   ]
  },
  {
   "cell_type": "code",
   "execution_count": null,
   "metadata": {},
   "outputs": [],
   "source": []
  }
 ],
 "metadata": {
  "kernelspec": {
   "display_name": "Python 3",
   "language": "python",
   "name": "python3"
  },
  "language_info": {
   "codemirror_mode": {
    "name": "ipython",
    "version": 3
   },
   "file_extension": ".py",
   "mimetype": "text/x-python",
   "name": "python",
   "nbconvert_exporter": "python",
   "pygments_lexer": "ipython3",
   "version": "3.6.8"
  }
 },
 "nbformat": 4,
 "nbformat_minor": 2
}
